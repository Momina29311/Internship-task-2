{
 "cells": [
  {
   "cell_type": "code",
   "execution_count": null,
   "id": "1b383914-87e1-44cd-ba65-190b0a78b9c3",
   "metadata": {},
   "outputs": [],
   "source": []
  }
 ],
 "metadata": {
  "kernelspec": {
   "display_name": "",
   "name": ""
  },
  "language_info": {
   "name": ""
  }
 },
 "nbformat": 4,
 "nbformat_minor": 5
}
