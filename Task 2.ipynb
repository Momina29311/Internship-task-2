{
 "cells": [
  {
   "cell_type": "code",
   "execution_count": null,
   "id": "60227180-ac14-4385-af3c-e34931193d87",
   "metadata": {},
   "outputs": [],
   "source": [
    "!pip install transformers datasets rouge-score nltk spacy scikit-learn\n",
    "!python -m nltk.downloader punkt\n",
    "!python -m spacy download en_core_web_sm\n"
   ]
  },
  {
   "cell_type": "code",
   "execution_count": null,
   "id": "127ddfe5-fd65-4458-ad29-59ebb6f8b943",
   "metadata": {},
   "outputs": [],
   "source": [
    "from datasets import load_dataset\n",
    "\n",
    "dataset = load_dataset(\"cnn_dailymail\", '3.0.0')\n",
    "sample = dataset['train'][0]\n",
    "print(\"Article:\\n\", sample['article'])\n",
    "print(\"\\nReference Summary:\\n\", sample['highlights'])\n"
   ]
  },
  {
   "cell_type": "code",
   "execution_count": null,
   "id": "50e99e85-94e3-4c53-a292-1f2646108385",
   "metadata": {},
   "outputs": [],
   "source": [
    "import re\n",
    "import nltk\n",
    "from nltk.tokenize import sent_tokenize\n",
    "\n",
    "def preprocess_text(text):\n",
    "    text = re.sub(r'\\s+', ' ', text)  \n",
    "    text = re.sub(r'\\[[^\\]]*\\]', '', text)  \n",
    "    return sent_tokenize(text)\n"
   ]
  },
  {
   "cell_type": "code",
   "execution_count": null,
   "id": "fc99a188-447f-431b-b295-161150481acd",
   "metadata": {},
   "outputs": [],
   "source": [
    "import spacy\n",
    "import numpy as np\n",
    "from sklearn.feature_extraction.text import TfidfVectorizer\n",
    "from sklearn.metrics.pairwise import cosine_similarity\n",
    "\n",
    "nlp = spacy.load(\"en_core_web_sm\")\n",
    "\n",
    "def extractive_summary(text, num_sentences=3):\n",
    "    sentences = preprocess_text(text)\n",
    "    tfidf = TfidfVectorizer().fit_transform(sentences)\n",
    "    similarity_matrix = cosine_similarity(tfidf, tfidf)\n",
    "    scores = similarity_matrix.sum(axis=1)\n",
    "    ranked_sentences = [sentences[i] for i in np.argsort(scores, axis=0)[-num_sentences:][::-1]]\n",
    "    return ' '.join(ranked_sentences)\n",
    "\n",
    "# Example usage:\n",
    "article_text = sample['article']\n",
    "print(\"Extractive Summary:\\n\", extractive_summary(article_text))\n"
   ]
  },
  {
   "cell_type": "code",
   "execution_count": null,
   "id": "cb3b5073-d6ba-4026-be33-e6e41fb26f6d",
   "metadata": {},
   "outputs": [],
   "source": [
    "from transformers import pipeline\n",
    "\n",
    "summarizer = pipeline(\"summarization\", model=\"facebook/bart-large-cnn\")\n",
    "\n",
    "def abstractive_summary(text):\n",
    "    summary = summarizer(text, max_length=130, min_length=30, do_sample=False)\n",
    "    return summary[0]['summary_text']\n",
    "\n",
    "# Example usage:\n",
    "print(\"Abstractive Summary:\\n\", abstractive_summary(article_text[:1024]))\n"
   ]
  },
  {
   "cell_type": "code",
   "execution_count": null,
   "id": "c82a0f3d-9a78-42a1-a02f-e3d7dce92420",
   "metadata": {},
   "outputs": [],
   "source": [
    "from datasets import load_metric\n",
    "\n",
    "rouge = load_metric(\"rouge\")\n",
    "\n",
    "generated = abstractive_summary(article_text[:1024])\n",
    "reference = sample['highlights']\n",
    "\n",
    "results = rouge.compute(predictions=[generated], references=[reference])\n",
    "print(\"ROUGE Evaluation:\\n\", results)\n"
   ]
  },
  {
   "cell_type": "code",
   "execution_count": null,
   "id": "baacd2d6-eb6c-4d28-875f-d98959fbfb62",
   "metadata": {},
   "outputs": [],
   "source": [
    "## ✅ Conclusion\n",
    "\n",
    "This project demonstrates two approaches to text summarization:\n",
    "\n",
    "- **Extractive Summarization** selects important sentences using TF-IDF and cosine similarity.\n",
    "- **Abstractive Summarization** uses a pre-trained deep learning model (BART) to generate human-like summaries.\n",
    "\n",
    "Further enhancements can include:\n",
    "- Fine-tuning models for better performance\n",
    "- GUI/web app for real-world usage\n"
   ]
  },
  {
   "cell_type": "code",
   "execution_count": null,
   "id": "73189d13-9fab-4149-8a45-3ffc2673a13c",
   "metadata": {},
   "outputs": [],
   "source": []
  }
 ],
 "metadata": {
  "kernelspec": {
   "display_name": "Python [conda env:base] *",
   "language": "python",
   "name": "conda-base-py"
  },
  "language_info": {
   "codemirror_mode": {
    "name": "ipython",
    "version": 3
   },
   "file_extension": ".py",
   "mimetype": "text/x-python",
   "name": "python",
   "nbconvert_exporter": "python",
   "pygments_lexer": "ipython3",
   "version": "3.12.7"
  }
 },
 "nbformat": 4,
 "nbformat_minor": 5
}
